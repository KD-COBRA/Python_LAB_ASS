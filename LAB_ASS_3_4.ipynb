{
 "cells": [
  {
   "cell_type": "code",
   "execution_count": 1,
   "id": "5c80ee1a",
   "metadata": {},
   "outputs": [
    {
     "name": "stdout",
     "output_type": "stream",
     "text": [
      "{'Name': 'Koushik Das', 'Domain_name': 'Student Portal', 'Regno': '2347232'}\n"
     ]
    }
   ],
   "source": [
    "# Lab Exercise 3\n",
    "# Write a function in Python with a string such that it accepts a parameter- “stringsplit”. This encoded string will contain your name, domain name and register number. You can separate the values in the string by any number of underscores. [The string should not contain any other underscore symbols in your name, domain name and register number]. The function should return a Python dictionary with your name, domain name and register number.\n",
    "# For example, if the input would be \" Aaron___Googleplaystore____2347201”. Then the function should return the output as follows:\n",
    "# { \"name\": \" Aaron \",\n",
    "# \"Domain_name\": \" Googleplaystore \",\n",
    "# \"Regno\": \"2347201\"}\n",
    "\n",
    "def dict_conversion(str1):\n",
    "    dict1={\"Name\":str1[0],\"Domain_name\":str1[1],\"Regno\":str1[2]}\n",
    "    return dict1\n",
    "\n",
    "string1='Koushik Das_Student Portal_2347232'\n",
    "str1=string1.split(\"_\")\n",
    "res=dict_conversion(str1)\n",
    "print(res)\n"
   ]
  },
  {
   "cell_type": "code",
   "execution_count": 1,
   "id": "e1d80885",
   "metadata": {},
   "outputs": [
    {
     "name": "stdout",
     "output_type": "stream",
     "text": [
      "2347232\n",
      "Koushik Das\n",
      "Christ University\n",
      "\n",
      "\n",
      "2347892\n",
      "KD\n",
      "Calcutta University\n",
      "\n",
      "\n",
      "2347262\n",
      "KD1\n",
      "Jadavpur University\n",
      "8583915344\n",
      "Kolkata\n",
      "700143\n",
      "\n",
      "\n"
     ]
    }
   ],
   "source": [
    "# Lab Exercise 4\n",
    "# Write a Python program to implement the object-oriented concepts of multiple, Multilevel and Hierarchical Inheritances using your domain applications.\n",
    "\n",
    "# multiple-2 to one\n",
    "# multilevel-one after another\n",
    "# hierarchical-\n",
    "\n",
    "\n",
    "#Parent Class\n",
    "class Student_Portal:\n",
    "    def __init__(self,std_id,std_name,std_school):\n",
    "        self.student_id=std_id\n",
    "        self.student_name=std_name\n",
    "        self.student_school=std_school\n",
    "    def display(self):\n",
    "        print(self.student_id)\n",
    "        print(self.student_name)\n",
    "        print(self.student_school)\n",
    "        print(\"\\n\")\n",
    "std=Student_Portal(2347232,\"Koushik Das\",\"Christ University\")\n",
    "std.display()\n",
    "\n",
    "#Child Class\n",
    "class Admin(Student_Portal): #Single Inheritance\n",
    "    def __init__(self):\n",
    "        super().__init__(2347892,\"KD\",\"Calcutta University\")\n",
    "    def can_see(self):\n",
    "        print(self.student_id)\n",
    "        print(self.student_name)\n",
    "        print(self.student_school)\n",
    "        print(\"\\n\")\n",
    "ad=Admin()\n",
    "ad.can_see()\n",
    "\n",
    "\n",
    "#Child Class\n",
    "class Contact_Info(Student_Portal):#Admin and Contact_Info are Hierarchical Inheritance\n",
    "    def __init__(self):\n",
    "        super().__init__(2347262,\"KD1\",\"Jadavpur University\")\n",
    "        self.contact_number=\"8583915344\"\n",
    "        self.address=\"Kolkata\"\n",
    "        self.pincode=\"700143\"\n",
    "    def display(self):\n",
    "        print(self.student_id)\n",
    "        print(self.student_name)\n",
    "        print(self.student_school)\n",
    "        print(self.contact_number)\n",
    "        print(self.address)\n",
    "        print(self.pincode)\n",
    "        print(\"\\n\")\n",
    "        \n",
    "cont=Contact_Info()\n",
    "cont.display()"
   ]
  },
  {
   "cell_type": "code",
   "execution_count": null,
   "id": "0bc71d75",
   "metadata": {},
   "outputs": [],
   "source": []
  },
  {
   "cell_type": "code",
   "execution_count": null,
   "id": "0d4d2eac",
   "metadata": {},
   "outputs": [],
   "source": []
  }
 ],
 "metadata": {
  "kernelspec": {
   "display_name": "Python 3 (ipykernel)",
   "language": "python",
   "name": "python3"
  },
  "language_info": {
   "codemirror_mode": {
    "name": "ipython",
    "version": 3
   },
   "file_extension": ".py",
   "mimetype": "text/x-python",
   "name": "python",
   "nbconvert_exporter": "python",
   "pygments_lexer": "ipython3",
   "version": "3.10.6"
  },
  "vscode": {
   "interpreter": {
    "hash": "52634da84371cba311ea128a5ea7cdc41ff074b781779e754b270ff9f8153cee"
   }
  }
 },
 "nbformat": 4,
 "nbformat_minor": 5
}
